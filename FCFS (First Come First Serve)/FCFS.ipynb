{
 "cells": [
  {
   "attachments": {},
   "cell_type": "markdown",
   "metadata": {},
   "source": [
    "## **<center><font style=\"color:rgb(100,109,254)\">First Come First Serve (FCFS) Scheduling</font> </center>**\n",
    "### **<center><font style=\"color:rgb(100,109,254)\">Advance OS</font> </center>**"
   ]
  },
  {
   "attachments": {},
   "cell_type": "markdown",
   "metadata": {},
   "source": [
    "#### 1. Taking Input (Process Name, Arrival Time, CPU Time) form User"
   ]
  },
  {
   "attachments": {},
   "cell_type": "markdown",
   "metadata": {},
   "source": [
    "##### 1.1 Enter Process Names"
   ]
  },
  {
   "cell_type": "code",
   "execution_count": 2,
   "metadata": {},
   "outputs": [
    {
     "name": "stdout",
     "output_type": "stream",
     "text": [
      "Enter Name of Processes as P0, P1, P2...... with space separted\n"
     ]
    },
    {
     "data": {
      "text/plain": [
       "['P0', 'P1', 'P2', 'P3']"
      ]
     },
     "execution_count": 2,
     "metadata": {},
     "output_type": "execute_result"
    }
   ],
   "source": [
    "print(\"Enter Name of Processes as P0, P1, P2...... with space separted\")\n",
    "\n",
    "# This will Make the list of Processes Names entered by user\n",
    "processList = list(map(str, input().split()))\n",
    "\n",
    "processList"
   ]
  },
  {
   "attachments": {},
   "cell_type": "markdown",
   "metadata": {},
   "source": [
    "##### 1.2 Enter Arrival Time "
   ]
  },
  {
   "cell_type": "code",
   "execution_count": 3,
   "metadata": {},
   "outputs": [
    {
     "name": "stdout",
     "output_type": "stream",
     "text": [
      "Enter Arrival Time for each Process mentioned above with space separted\n"
     ]
    },
    {
     "data": {
      "text/plain": [
       "[2.0, 1.0, 0.0, 4.0]"
      ]
     },
     "execution_count": 3,
     "metadata": {},
     "output_type": "execute_result"
    }
   ],
   "source": [
    "print(\"Enter Arrival Time for each Process mentioned above with space separted\")\n",
    "\n",
    "# This will Make the list of Processes arrival time entered by user\n",
    "arrivalTime = list(map(float, input().split()))\n",
    "\n",
    "arrivalTime"
   ]
  },
  {
   "attachments": {},
   "cell_type": "markdown",
   "metadata": {},
   "source": [
    "##### 1.3 Enter CPU Time "
   ]
  },
  {
   "cell_type": "code",
   "execution_count": 4,
   "metadata": {},
   "outputs": [
    {
     "name": "stdout",
     "output_type": "stream",
     "text": [
      "Enter CPU Time for each Process mentioned above with space separted\n"
     ]
    },
    {
     "data": {
      "text/plain": [
       "[20.0, 25.0, 14.0, 10.0]"
      ]
     },
     "execution_count": 4,
     "metadata": {},
     "output_type": "execute_result"
    }
   ],
   "source": [
    "print(\"Enter CPU Time for each Process mentioned above with space separted\")\n",
    "\n",
    "# This will Make the list of Processes CPU time entered by user\n",
    "CPUTime = list(map(float, input().split()))\n",
    "\n",
    "CPUTime"
   ]
  },
  {
   "attachments": {},
   "cell_type": "markdown",
   "metadata": {},
   "source": [
    "##### 1.4 Display in the form Table"
   ]
  },
  {
   "cell_type": "code",
   "execution_count": 5,
   "metadata": {},
   "outputs": [
    {
     "name": "stdout",
     "output_type": "stream",
     "text": [
      "-----------------------------------------------------\n",
      "\t\t\tFCFS\n",
      "    Input Matirx with Arrival Time and CPU Time\n",
      "-----------------------------------------------------\n"
     ]
    },
    {
     "data": {
      "text/html": [
       "<div>\n",
       "<style scoped>\n",
       "    .dataframe tbody tr th:only-of-type {\n",
       "        vertical-align: middle;\n",
       "    }\n",
       "\n",
       "    .dataframe tbody tr th {\n",
       "        vertical-align: top;\n",
       "    }\n",
       "\n",
       "    .dataframe thead th {\n",
       "        text-align: right;\n",
       "    }\n",
       "</style>\n",
       "<table border=\"1\" class=\"dataframe\">\n",
       "  <thead>\n",
       "    <tr style=\"text-align: right;\">\n",
       "      <th></th>\n",
       "      <th>Process Name</th>\n",
       "      <th>Arrival Time (AT)</th>\n",
       "      <th>CPU Time / Burst Time</th>\n",
       "    </tr>\n",
       "  </thead>\n",
       "  <tbody>\n",
       "    <tr>\n",
       "      <th>0</th>\n",
       "      <td>P0</td>\n",
       "      <td>2.0</td>\n",
       "      <td>20.0</td>\n",
       "    </tr>\n",
       "    <tr>\n",
       "      <th>1</th>\n",
       "      <td>P1</td>\n",
       "      <td>1.0</td>\n",
       "      <td>25.0</td>\n",
       "    </tr>\n",
       "    <tr>\n",
       "      <th>2</th>\n",
       "      <td>P2</td>\n",
       "      <td>0.0</td>\n",
       "      <td>14.0</td>\n",
       "    </tr>\n",
       "    <tr>\n",
       "      <th>3</th>\n",
       "      <td>P3</td>\n",
       "      <td>4.0</td>\n",
       "      <td>10.0</td>\n",
       "    </tr>\n",
       "  </tbody>\n",
       "</table>\n",
       "</div>"
      ],
      "text/plain": [
       "  Process Name  Arrival Time (AT)  CPU Time / Burst Time\n",
       "0           P0                2.0                   20.0\n",
       "1           P1                1.0                   25.0\n",
       "2           P2                0.0                   14.0\n",
       "3           P3                4.0                   10.0"
      ]
     },
     "execution_count": 5,
     "metadata": {},
     "output_type": "execute_result"
    }
   ],
   "source": [
    "import pandas as pd\n",
    "\n",
    "data = {}\n",
    "\n",
    "data[\"Process Name\"] = processList\n",
    "data[\"Arrival Time (AT)\"] = arrivalTime\n",
    "data[\"CPU Time / Burst Time\"] = CPUTime\n",
    "\n",
    "ECTMatrix = pd.DataFrame(data)\n",
    "\n",
    "print(\"-----------------------------------------------------\")\n",
    "print(\"\\t\\t\\tFCFS\")\n",
    "print(\"    Input Matirx with Arrival Time and CPU Time\")\n",
    "print(\"-----------------------------------------------------\")\n",
    "ECTMatrix"
   ]
  },
  {
   "attachments": {},
   "cell_type": "markdown",
   "metadata": {},
   "source": [
    "#### 2. Sort the Data frame on the basis of arrival time"
   ]
  },
  {
   "cell_type": "code",
   "execution_count": 6,
   "metadata": {},
   "outputs": [
    {
     "name": "stdout",
     "output_type": "stream",
     "text": [
      "=====================================================\n",
      "\t\t\tFCFS\n",
      "\t\t    Sorted Matrix\n",
      "=====================================================\n"
     ]
    },
    {
     "data": {
      "text/html": [
       "<div>\n",
       "<style scoped>\n",
       "    .dataframe tbody tr th:only-of-type {\n",
       "        vertical-align: middle;\n",
       "    }\n",
       "\n",
       "    .dataframe tbody tr th {\n",
       "        vertical-align: top;\n",
       "    }\n",
       "\n",
       "    .dataframe thead th {\n",
       "        text-align: right;\n",
       "    }\n",
       "</style>\n",
       "<table border=\"1\" class=\"dataframe\">\n",
       "  <thead>\n",
       "    <tr style=\"text-align: right;\">\n",
       "      <th></th>\n",
       "      <th>Process Name</th>\n",
       "      <th>Arrival Time (AT)</th>\n",
       "      <th>CPU Time / Burst Time</th>\n",
       "    </tr>\n",
       "  </thead>\n",
       "  <tbody>\n",
       "    <tr>\n",
       "      <th>2</th>\n",
       "      <td>P2</td>\n",
       "      <td>0.0</td>\n",
       "      <td>14.0</td>\n",
       "    </tr>\n",
       "    <tr>\n",
       "      <th>1</th>\n",
       "      <td>P1</td>\n",
       "      <td>1.0</td>\n",
       "      <td>25.0</td>\n",
       "    </tr>\n",
       "    <tr>\n",
       "      <th>0</th>\n",
       "      <td>P0</td>\n",
       "      <td>2.0</td>\n",
       "      <td>20.0</td>\n",
       "    </tr>\n",
       "    <tr>\n",
       "      <th>3</th>\n",
       "      <td>P3</td>\n",
       "      <td>4.0</td>\n",
       "      <td>10.0</td>\n",
       "    </tr>\n",
       "  </tbody>\n",
       "</table>\n",
       "</div>"
      ],
      "text/plain": [
       "  Process Name  Arrival Time (AT)  CPU Time / Burst Time\n",
       "2           P2                0.0                   14.0\n",
       "1           P1                1.0                   25.0\n",
       "0           P0                2.0                   20.0\n",
       "3           P3                4.0                   10.0"
      ]
     },
     "execution_count": 6,
     "metadata": {},
     "output_type": "execute_result"
    }
   ],
   "source": [
    "sortedECTMatrix = ECTMatrix.sort_values('Arrival Time (AT)')\n",
    "\n",
    "print(\"=====================================================\")\n",
    "print(\"\\t\\t\\tFCFS\")\n",
    "print(\"\\t\\t    Sorted Matrix\")\n",
    "print(\"=====================================================\")\n",
    "sortedECTMatrix"
   ]
  },
  {
   "attachments": {},
   "cell_type": "markdown",
   "metadata": {},
   "source": [
    "##### 2.1 Reset the index values"
   ]
  },
  {
   "cell_type": "code",
   "execution_count": 7,
   "metadata": {},
   "outputs": [
    {
     "data": {
      "text/html": [
       "<div>\n",
       "<style scoped>\n",
       "    .dataframe tbody tr th:only-of-type {\n",
       "        vertical-align: middle;\n",
       "    }\n",
       "\n",
       "    .dataframe tbody tr th {\n",
       "        vertical-align: top;\n",
       "    }\n",
       "\n",
       "    .dataframe thead th {\n",
       "        text-align: right;\n",
       "    }\n",
       "</style>\n",
       "<table border=\"1\" class=\"dataframe\">\n",
       "  <thead>\n",
       "    <tr style=\"text-align: right;\">\n",
       "      <th></th>\n",
       "      <th>Process Name</th>\n",
       "      <th>Arrival Time (AT)</th>\n",
       "      <th>CPU Time / Burst Time</th>\n",
       "    </tr>\n",
       "  </thead>\n",
       "  <tbody>\n",
       "    <tr>\n",
       "      <th>0</th>\n",
       "      <td>P2</td>\n",
       "      <td>0.0</td>\n",
       "      <td>14.0</td>\n",
       "    </tr>\n",
       "    <tr>\n",
       "      <th>1</th>\n",
       "      <td>P1</td>\n",
       "      <td>1.0</td>\n",
       "      <td>25.0</td>\n",
       "    </tr>\n",
       "    <tr>\n",
       "      <th>2</th>\n",
       "      <td>P0</td>\n",
       "      <td>2.0</td>\n",
       "      <td>20.0</td>\n",
       "    </tr>\n",
       "    <tr>\n",
       "      <th>3</th>\n",
       "      <td>P3</td>\n",
       "      <td>4.0</td>\n",
       "      <td>10.0</td>\n",
       "    </tr>\n",
       "  </tbody>\n",
       "</table>\n",
       "</div>"
      ],
      "text/plain": [
       "  Process Name  Arrival Time (AT)  CPU Time / Burst Time\n",
       "0           P2                0.0                   14.0\n",
       "1           P1                1.0                   25.0\n",
       "2           P0                2.0                   20.0\n",
       "3           P3                4.0                   10.0"
      ]
     },
     "execution_count": 7,
     "metadata": {},
     "output_type": "execute_result"
    }
   ],
   "source": [
    "sortedECTMatrix.reset_index(drop=True, inplace=True)\n",
    "sortedECTMatrix"
   ]
  },
  {
   "attachments": {},
   "cell_type": "markdown",
   "metadata": {},
   "source": [
    "#### 3. Findng the start time and Completion time of each Process"
   ]
  },
  {
   "cell_type": "code",
   "execution_count": 8,
   "metadata": {},
   "outputs": [
    {
     "data": {
      "text/plain": [
       "[[0.0, 14.0], [14.0, 39.0], [39.0, 59.0], [59.0, 69.0]]"
      ]
     },
     "execution_count": 8,
     "metadata": {},
     "output_type": "execute_result"
    }
   ],
   "source": [
    "\n",
    "\n",
    "currentTime = sortedECTMatrix[\"Arrival Time (AT)\"][0]\n",
    "gantChart = []\n",
    "\n",
    "for p in range(len(sortedECTMatrix)):\n",
    "\n",
    "    gantChart.append([currentTime, currentTime + sortedECTMatrix[\"CPU Time / Burst Time\"][p]])\n",
    "    currentTime+= sortedECTMatrix[\"CPU Time / Burst Time\"][p]\n",
    "\n",
    "gantChart\n"
   ]
  },
  {
   "attachments": {},
   "cell_type": "markdown",
   "metadata": {},
   "source": [
    "##### 3.1 Add start time and Completion time of each process in data frame"
   ]
  },
  {
   "cell_type": "code",
   "execution_count": 9,
   "metadata": {},
   "outputs": [
    {
     "data": {
      "text/html": [
       "<div>\n",
       "<style scoped>\n",
       "    .dataframe tbody tr th:only-of-type {\n",
       "        vertical-align: middle;\n",
       "    }\n",
       "\n",
       "    .dataframe tbody tr th {\n",
       "        vertical-align: top;\n",
       "    }\n",
       "\n",
       "    .dataframe thead th {\n",
       "        text-align: right;\n",
       "    }\n",
       "</style>\n",
       "<table border=\"1\" class=\"dataframe\">\n",
       "  <thead>\n",
       "    <tr style=\"text-align: right;\">\n",
       "      <th></th>\n",
       "      <th>Process Name</th>\n",
       "      <th>Arrival Time (AT)</th>\n",
       "      <th>CPU Time / Burst Time</th>\n",
       "      <th>Start Time</th>\n",
       "      <th>Completion Time</th>\n",
       "    </tr>\n",
       "  </thead>\n",
       "  <tbody>\n",
       "    <tr>\n",
       "      <th>0</th>\n",
       "      <td>P2</td>\n",
       "      <td>0.0</td>\n",
       "      <td>14.0</td>\n",
       "      <td>0.0</td>\n",
       "      <td>14.0</td>\n",
       "    </tr>\n",
       "    <tr>\n",
       "      <th>1</th>\n",
       "      <td>P1</td>\n",
       "      <td>1.0</td>\n",
       "      <td>25.0</td>\n",
       "      <td>14.0</td>\n",
       "      <td>39.0</td>\n",
       "    </tr>\n",
       "    <tr>\n",
       "      <th>2</th>\n",
       "      <td>P0</td>\n",
       "      <td>2.0</td>\n",
       "      <td>20.0</td>\n",
       "      <td>39.0</td>\n",
       "      <td>59.0</td>\n",
       "    </tr>\n",
       "    <tr>\n",
       "      <th>3</th>\n",
       "      <td>P3</td>\n",
       "      <td>4.0</td>\n",
       "      <td>10.0</td>\n",
       "      <td>59.0</td>\n",
       "      <td>69.0</td>\n",
       "    </tr>\n",
       "  </tbody>\n",
       "</table>\n",
       "</div>"
      ],
      "text/plain": [
       "  Process Name  Arrival Time (AT)  CPU Time / Burst Time  Start Time  \\\n",
       "0           P2                0.0                   14.0         0.0   \n",
       "1           P1                1.0                   25.0        14.0   \n",
       "2           P0                2.0                   20.0        39.0   \n",
       "3           P3                4.0                   10.0        59.0   \n",
       "\n",
       "   Completion Time  \n",
       "0             14.0  \n",
       "1             39.0  \n",
       "2             59.0  \n",
       "3             69.0  "
      ]
     },
     "execution_count": 9,
     "metadata": {},
     "output_type": "execute_result"
    }
   ],
   "source": [
    "startTime = []\n",
    "complTime = []\n",
    "\n",
    "for i in range(0,len(sortedECTMatrix)):\n",
    "    startTime.append(gantChart[i][0]) \n",
    "    complTime.append(gantChart[i][1])\n",
    "\n",
    "sortedECTMatrix[\"Start Time\"] = startTime\n",
    "sortedECTMatrix[\"Completion Time\"] = complTime\n",
    "\n",
    "sortedECTMatrix"
   ]
  },
  {
   "attachments": {},
   "cell_type": "markdown",
   "metadata": {},
   "source": [
    "#### 4. Find Turn Around time for each process and average Turn Around Time"
   ]
  },
  {
   "attachments": {},
   "cell_type": "markdown",
   "metadata": {},
   "source": [
    "        Turn around Time  = Completion Time - Arrival Time "
   ]
  },
  {
   "cell_type": "code",
   "execution_count": 10,
   "metadata": {},
   "outputs": [
    {
     "data": {
      "text/plain": [
       "[14.0, 38.0, 57.0, 65.0]"
      ]
     },
     "execution_count": 10,
     "metadata": {},
     "output_type": "execute_result"
    }
   ],
   "source": [
    "TurnAroundTime = []\n",
    "\n",
    "for i in range(0,len(sortedECTMatrix)):\n",
    "\n",
    "    TurnAroundTime.append(sortedECTMatrix[\"Completion Time\"][i] - sortedECTMatrix[\"Arrival Time (AT)\"][i])\n",
    "\n",
    "TurnAroundTime"
   ]
  },
  {
   "attachments": {},
   "cell_type": "markdown",
   "metadata": {},
   "source": [
    "##### 4.1 Add Turn Around column in current data frame "
   ]
  },
  {
   "cell_type": "code",
   "execution_count": 11,
   "metadata": {},
   "outputs": [
    {
     "data": {
      "text/html": [
       "<div>\n",
       "<style scoped>\n",
       "    .dataframe tbody tr th:only-of-type {\n",
       "        vertical-align: middle;\n",
       "    }\n",
       "\n",
       "    .dataframe tbody tr th {\n",
       "        vertical-align: top;\n",
       "    }\n",
       "\n",
       "    .dataframe thead th {\n",
       "        text-align: right;\n",
       "    }\n",
       "</style>\n",
       "<table border=\"1\" class=\"dataframe\">\n",
       "  <thead>\n",
       "    <tr style=\"text-align: right;\">\n",
       "      <th></th>\n",
       "      <th>Process Name</th>\n",
       "      <th>Arrival Time (AT)</th>\n",
       "      <th>CPU Time / Burst Time</th>\n",
       "      <th>Start Time</th>\n",
       "      <th>Completion Time</th>\n",
       "      <th>Turnaround Time</th>\n",
       "    </tr>\n",
       "  </thead>\n",
       "  <tbody>\n",
       "    <tr>\n",
       "      <th>0</th>\n",
       "      <td>P2</td>\n",
       "      <td>0.0</td>\n",
       "      <td>14.0</td>\n",
       "      <td>0.0</td>\n",
       "      <td>14.0</td>\n",
       "      <td>14.0</td>\n",
       "    </tr>\n",
       "    <tr>\n",
       "      <th>1</th>\n",
       "      <td>P1</td>\n",
       "      <td>1.0</td>\n",
       "      <td>25.0</td>\n",
       "      <td>14.0</td>\n",
       "      <td>39.0</td>\n",
       "      <td>38.0</td>\n",
       "    </tr>\n",
       "    <tr>\n",
       "      <th>2</th>\n",
       "      <td>P0</td>\n",
       "      <td>2.0</td>\n",
       "      <td>20.0</td>\n",
       "      <td>39.0</td>\n",
       "      <td>59.0</td>\n",
       "      <td>57.0</td>\n",
       "    </tr>\n",
       "    <tr>\n",
       "      <th>3</th>\n",
       "      <td>P3</td>\n",
       "      <td>4.0</td>\n",
       "      <td>10.0</td>\n",
       "      <td>59.0</td>\n",
       "      <td>69.0</td>\n",
       "      <td>65.0</td>\n",
       "    </tr>\n",
       "  </tbody>\n",
       "</table>\n",
       "</div>"
      ],
      "text/plain": [
       "  Process Name  Arrival Time (AT)  CPU Time / Burst Time  Start Time  \\\n",
       "0           P2                0.0                   14.0         0.0   \n",
       "1           P1                1.0                   25.0        14.0   \n",
       "2           P0                2.0                   20.0        39.0   \n",
       "3           P3                4.0                   10.0        59.0   \n",
       "\n",
       "   Completion Time  Turnaround Time  \n",
       "0             14.0             14.0  \n",
       "1             39.0             38.0  \n",
       "2             59.0             57.0  \n",
       "3             69.0             65.0  "
      ]
     },
     "execution_count": 11,
     "metadata": {},
     "output_type": "execute_result"
    }
   ],
   "source": [
    "sortedECTMatrix[\"Turnaround Time\"] = TurnAroundTime\n",
    "\n",
    "sortedECTMatrix"
   ]
  },
  {
   "attachments": {},
   "cell_type": "markdown",
   "metadata": {},
   "source": [
    "##### 4.2 Finding Average Turn Around Time and Maskespan"
   ]
  },
  {
   "attachments": {},
   "cell_type": "markdown",
   "metadata": {},
   "source": [
    "        Average Turn Around Time = Sum of Turn around Time / Total no. of Process\n",
    "        Makespan = Maximum of Turn around Time "
   ]
  },
  {
   "cell_type": "code",
   "execution_count": 12,
   "metadata": {},
   "outputs": [
    {
     "name": "stdout",
     "output_type": "stream",
     "text": [
      "The average turn around time: 43.5\n",
      "The Makespan is: 65.0\n"
     ]
    }
   ],
   "source": [
    "averageTurnAroundTime = sortedECTMatrix[\"Turnaround Time\"].sum()/len(sortedECTMatrix)\n",
    "makespan = max(sortedECTMatrix[\"Turnaround Time\"])\n",
    "\n",
    "print(f\"The average turn around time: {averageTurnAroundTime}\")\n",
    "print(f\"The Makespan is: {makespan}\")\n"
   ]
  },
  {
   "attachments": {},
   "cell_type": "markdown",
   "metadata": {},
   "source": [
    "#### 5. Finding the Waiting Time for each Process"
   ]
  },
  {
   "attachments": {},
   "cell_type": "markdown",
   "metadata": {},
   "source": [
    "        Waiting Time = Turn Around Time - CPU Time"
   ]
  },
  {
   "cell_type": "code",
   "execution_count": 13,
   "metadata": {},
   "outputs": [
    {
     "data": {
      "text/plain": [
       "[0.0, 13.0, 37.0, 55.0]"
      ]
     },
     "execution_count": 13,
     "metadata": {},
     "output_type": "execute_result"
    }
   ],
   "source": [
    "WeightingTime = []\n",
    "\n",
    "for i in range(0,len(sortedECTMatrix)):\n",
    "\n",
    "    WeightingTime.append(sortedECTMatrix[\"Turnaround Time\"][i] - sortedECTMatrix[\"CPU Time / Burst Time\"][i])\n",
    "\n",
    "WeightingTime\n"
   ]
  },
  {
   "attachments": {},
   "cell_type": "markdown",
   "metadata": {},
   "source": [
    "##### 5.1 Add Waiting Time column in current Data Frame"
   ]
  },
  {
   "cell_type": "code",
   "execution_count": 14,
   "metadata": {},
   "outputs": [
    {
     "data": {
      "text/html": [
       "<div>\n",
       "<style scoped>\n",
       "    .dataframe tbody tr th:only-of-type {\n",
       "        vertical-align: middle;\n",
       "    }\n",
       "\n",
       "    .dataframe tbody tr th {\n",
       "        vertical-align: top;\n",
       "    }\n",
       "\n",
       "    .dataframe thead th {\n",
       "        text-align: right;\n",
       "    }\n",
       "</style>\n",
       "<table border=\"1\" class=\"dataframe\">\n",
       "  <thead>\n",
       "    <tr style=\"text-align: right;\">\n",
       "      <th></th>\n",
       "      <th>Process Name</th>\n",
       "      <th>Arrival Time (AT)</th>\n",
       "      <th>CPU Time / Burst Time</th>\n",
       "      <th>Start Time</th>\n",
       "      <th>Completion Time</th>\n",
       "      <th>Turnaround Time</th>\n",
       "      <th>Waiting Time</th>\n",
       "    </tr>\n",
       "  </thead>\n",
       "  <tbody>\n",
       "    <tr>\n",
       "      <th>0</th>\n",
       "      <td>P2</td>\n",
       "      <td>0.0</td>\n",
       "      <td>14.0</td>\n",
       "      <td>0.0</td>\n",
       "      <td>14.0</td>\n",
       "      <td>14.0</td>\n",
       "      <td>0.0</td>\n",
       "    </tr>\n",
       "    <tr>\n",
       "      <th>1</th>\n",
       "      <td>P1</td>\n",
       "      <td>1.0</td>\n",
       "      <td>25.0</td>\n",
       "      <td>14.0</td>\n",
       "      <td>39.0</td>\n",
       "      <td>38.0</td>\n",
       "      <td>13.0</td>\n",
       "    </tr>\n",
       "    <tr>\n",
       "      <th>2</th>\n",
       "      <td>P0</td>\n",
       "      <td>2.0</td>\n",
       "      <td>20.0</td>\n",
       "      <td>39.0</td>\n",
       "      <td>59.0</td>\n",
       "      <td>57.0</td>\n",
       "      <td>37.0</td>\n",
       "    </tr>\n",
       "    <tr>\n",
       "      <th>3</th>\n",
       "      <td>P3</td>\n",
       "      <td>4.0</td>\n",
       "      <td>10.0</td>\n",
       "      <td>59.0</td>\n",
       "      <td>69.0</td>\n",
       "      <td>65.0</td>\n",
       "      <td>55.0</td>\n",
       "    </tr>\n",
       "  </tbody>\n",
       "</table>\n",
       "</div>"
      ],
      "text/plain": [
       "  Process Name  Arrival Time (AT)  CPU Time / Burst Time  Start Time  \\\n",
       "0           P2                0.0                   14.0         0.0   \n",
       "1           P1                1.0                   25.0        14.0   \n",
       "2           P0                2.0                   20.0        39.0   \n",
       "3           P3                4.0                   10.0        59.0   \n",
       "\n",
       "   Completion Time  Turnaround Time  Waiting Time  \n",
       "0             14.0             14.0           0.0  \n",
       "1             39.0             38.0          13.0  \n",
       "2             59.0             57.0          37.0  \n",
       "3             69.0             65.0          55.0  "
      ]
     },
     "execution_count": 14,
     "metadata": {},
     "output_type": "execute_result"
    }
   ],
   "source": [
    "sortedECTMatrix[\"Waiting Time\"] = WeightingTime\n",
    "\n",
    "sortedECTMatrix"
   ]
  },
  {
   "attachments": {},
   "cell_type": "markdown",
   "metadata": {},
   "source": [
    "##### 5.2 Average Waiting Time "
   ]
  },
  {
   "cell_type": "code",
   "execution_count": 15,
   "metadata": {},
   "outputs": [
    {
     "name": "stdout",
     "output_type": "stream",
     "text": [
      "The average waiting time: 26.25\n"
     ]
    }
   ],
   "source": [
    "averageWeightingTime= sortedECTMatrix[\"Waiting Time\"].sum()/len(sortedECTMatrix)\n",
    "\n",
    "print(f\"The average waiting time: {averageWeightingTime}\")"
   ]
  },
  {
   "attachments": {},
   "cell_type": "markdown",
   "metadata": {},
   "source": [
    "#### 6. Draw Start Time, Completion Time, Turnaround Time, and Waiting Time for each Process"
   ]
  },
  {
   "cell_type": "code",
   "execution_count": 50,
   "metadata": {},
   "outputs": [
    {
     "data": {
      "image/png": "[encoded data removed]",
      "text/plain": [
       "<Figure size 1000x1000 with 4 Axes>"
      ]
     },
     "metadata": {},
     "output_type": "display_data"
    }
   ],
   "source": [
    "import matplotlib.pyplot as plt\n",
    "\n",
    "# plt.figure(figsize=(5,5))\n",
    "\n",
    "# plt.bar(sortedECTMatrix[\"Process Name\"], sortedECTMatrix[\"Completion Time\"])\n",
    "# # plt.bar(sortedECTMatrix[\"Process Name\"], sortedECTMatrix[\"Completion Time\"])\n",
    "# plt.show()\n",
    "\n",
    "plt.figure(figsize=(10,10))\n",
    "plt.subplot(221)\n",
    "plt.plot(sortedECTMatrix[\"Process Name\"], sortedECTMatrix[\"Start Time\"])\n",
    "plt.bar(sortedECTMatrix[\"Process Name\"], sortedECTMatrix[\"Start Time\"], width=0.5)\n",
    "\n",
    "# Add labels to the bars\n",
    "for i, v in enumerate(sortedECTMatrix[\"Start Time\"]):\n",
    "    plt.text(i, v + 3, str(v), ha='center', fontweight='bold')\n",
    "\n",
    "plt.title(\"Start Time\", fontweight = 'bold', fontsize = '14')\n",
    "plt.xlabel(\"Processes\", fontweight = 'bold', fontsize = '10')\n",
    "plt.grid(\"on\")\n",
    "plt.subplot(222)\n",
    "plt.plot(sortedECTMatrix[\"Process Name\"], sortedECTMatrix[\"Completion Time\"])\n",
    "plt.bar(sortedECTMatrix[\"Process Name\"], sortedECTMatrix[\"Completion Time\"],\n",
    "        width = 0.5, color = \"orange\")\n",
    "\n",
    "# Add labels to the bars\n",
    "for i, v in enumerate(sortedECTMatrix[\"Completion Time\"]):\n",
    "    plt.text(i, v + 3, str(v), ha='center', fontweight='bold')\n",
    "\n",
    "plt.title(\"Completion Time\", fontweight = 'bold', fontsize = '14')\n",
    "plt.xlabel(\"Processes\", fontweight = 'bold', fontsize = '10')\n",
    "plt.grid(\"on\")\n",
    "plt.subplot(223)\n",
    "plt.plot(sortedECTMatrix[\"Process Name\"], sortedECTMatrix[\"Turnaround Time\"])\n",
    "plt.bar(sortedECTMatrix[\"Process Name\"], sortedECTMatrix[\"Turnaround Time\"],\n",
    "        width=0.5, color = 'green')\n",
    "\n",
    "# Add labels to the bars\n",
    "for i, v in enumerate(sortedECTMatrix[\"Turnaround Time\"]):\n",
    "    plt.text(i, v + 3, str(v), ha='center', fontweight='bold')\n",
    "\n",
    "plt.title(\"Turnaround Time\", fontweight = 'bold', fontsize = '14')\n",
    "plt.xlabel(\"Processes\", fontweight = 'bold', fontsize = '10')\n",
    "plt.grid(\"on\")\n",
    "plt.subplot(224)\n",
    "plt.plot(sortedECTMatrix[\"Process Name\"], sortedECTMatrix[\"Waiting Time\"])\n",
    "plt.bar(sortedECTMatrix[\"Process Name\"], sortedECTMatrix[\"Waiting Time\"],\n",
    "        width=0.5, color = \"purple\")\n",
    "\n",
    "# Add labels to the bars\n",
    "for i, v in enumerate(sortedECTMatrix[\"Waiting Time\"]):\n",
    "    plt.text(i, v + 3, str(v), ha='center', fontweight='bold')\n",
    "\n",
    "plt.title(\"Waiting Time\", fontweight = 'bold', fontsize = '14')\n",
    "plt.xlabel(\"Processes\", fontweight = 'bold', fontsize = '10')\n",
    "plt.grid(\"on\")\n",
    "\n",
    "plt.suptitle(\"First Come First Serve (FCFS) OS Scheduling Algorithm\", fontweight = 'bold', fontsize = '14')\n",
    "# Show the plot\n",
    "plt.show()\n"
   ]
  },
  {
   "cell_type": "code",
   "execution_count": 64,
   "metadata": {},
   "outputs": [
    {
     "data": {
      "image/png": "[encoded data removed]",
      "text/plain": [
       "<Figure size 500x500 with 1 Axes>"
      ]
     },
     "metadata": {},
     "output_type": "display_data"
    }
   ],
   "source": [
    "forPlot = [averageTurnAroundTime, averageWeightingTime, makespan]\n",
    "hBary = [\"Average Turnaround Time\", \"Average Waiting Time\", \"Makespan\"]\n",
    "\n",
    "colors = ['orange', 'purple', 'green']\n",
    "\n",
    "plt.figure(figsize=(5,5))\n",
    "plt.barh(hBary,forPlot, color = colors, height=0.4)\n",
    "\n",
    "for i, v in enumerate(forPlot):\n",
    "    plt.text(v + 4, i , str(v), ha='center', fontweight='bold')\n",
    "\n",
    "plt.title(\"FCFS OS Algorithm\", fontweight = 'bold', fontsize = '14')\n",
    "plt.grid(\"on\")\n",
    "plt.show()\n"
   ]
  },
  {
   "cell_type": "markdown",
   "metadata": {},
   "source": []
  }
 ],
 "metadata": {
  "kernelspec": {
   "display_name": "Python 3",
   "language": "python",
   "name": "python3"
  },
  "language_info": {
   "codemirror_mode": {
    "name": "ipython",
    "version": 3
   },
   "file_extension": ".py",
   "mimetype": "text/x-python",
   "name": "python",
   "nbconvert_exporter": "python",
   "pygments_lexer": "ipython3",
   "version": "3.9.1"
  },
  "orig_nbformat": 4,
  "vscode": {
   "interpreter": {
    "hash": "b671c20432fcd147198c92e7f072af9e705f087eb990bee22b07f08caab9f630"
   }
  }
 },
 "nbformat": 4,
 "nbformat_minor": 2
}
